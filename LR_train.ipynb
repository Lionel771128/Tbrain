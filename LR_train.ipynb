{
 "cells": [
  {
   "cell_type": "code",
   "execution_count": 5,
   "metadata": {},
   "outputs": [],
   "source": [
    "import pandas as pd\n",
    "import numpy as np\n",
    "from sklearn.linear_model import LogisticRegression as LR\n",
    "from sklearn.model_selection import train_test_split\n",
    "from sklearn.metrics import f1_score\n",
    "train_df = pd.read_csv(\"train.csv\")\n",
    "test_df = pd.read_csv(\"test.csv\")\n",
    "pd.options.display.max_columns = None\n",
    "# pd.options.display.max_rows = 100\n",
    "# train_df[[\"bacno\", \"fraud_ind\"]].groupby([\"bacno\"]).sum()\n",
    "# s=train_df[train_df['bacno'] == 2]\n",
    "# s[s[\"fraud_ind\"] == 1]\n",
    "# train_df.isna().any() \n",
    "random_state = 42\n",
    "\n",
    "dummy_train_df = pd.get_dummies(train_df)\n",
    "# mean_columns = train_df.mean()\n",
    "# dumm_train_df = dumm_train_df.fillna(mean_cols)\n",
    "df1 = dummy_train_df.filter([\"bacno\", \"cano\", \"conam\"])\n",
    "y = dummy_train_df[\"fraud_ind\"]\n",
    "\n",
    "x_train, x_test, y_train,  y_test = train_test_split(df1 , y, test_size=0.2)"
   ]
  },
  {
   "cell_type": "code",
   "execution_count": 6,
   "metadata": {},
   "outputs": [
    {
     "name": "stdout",
     "output_type": "stream",
     "text": [
      "0.49663272934156294\n"
     ]
    },
    {
     "name": "stderr",
     "output_type": "stream",
     "text": [
      "/Library/Frameworks/Python.framework/Versions/3.7/lib/python3.7/site-packages/sklearn/metrics/classification.py:1437: UndefinedMetricWarning: F-score is ill-defined and being set to 0.0 in labels with no predicted samples.\n",
      "  'precision', 'predicted', average, warn_for)\n"
     ]
    }
   ],
   "source": [
    "classifier = LR(solver='liblinear')  # 使用类，参数全是默认的\n",
    "classifier.fit(x_train, y_train)\n",
    "\n",
    "y_pred  = classifier.predict(x_test)  # 测试数据，分类返回标记\n",
    " \n",
    "\n",
    "a = f1_score(y_test, y_pred, average='macro')  \n",
    "print(a)"
   ]
  },
  {
   "cell_type": "code",
   "execution_count": null,
   "metadata": {},
   "outputs": [],
   "source": []
  },
  {
   "cell_type": "code",
   "execution_count": null,
   "metadata": {},
   "outputs": [],
   "source": []
  }
 ],
 "metadata": {
  "kernelspec": {
   "display_name": "Python 3",
   "language": "python",
   "name": "python3"
  },
  "language_info": {
   "codemirror_mode": {
    "name": "ipython",
    "version": 3
   },
   "file_extension": ".py",
   "mimetype": "text/x-python",
   "name": "python",
   "nbconvert_exporter": "python",
   "pygments_lexer": "ipython3",
   "version": "3.7.4"
  }
 },
 "nbformat": 4,
 "nbformat_minor": 2
}
